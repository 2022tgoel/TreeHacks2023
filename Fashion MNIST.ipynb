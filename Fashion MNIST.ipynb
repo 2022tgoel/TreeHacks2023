{
 "cells": [
  {
   "cell_type": "code",
   "execution_count": 3,
   "id": "c85ec451-40b8-4b29-bd2e-d078ce776ef1",
   "metadata": {},
   "outputs": [],
   "source": [
    "import tensorflow_datasets as tfds\n",
    "import pandas\n",
    "import tensorflow as tf"
   ]
  },
  {
   "cell_type": "code",
   "execution_count": 10,
   "id": "3487dcdf-b467-4736-abbf-9ca2cba2a67e",
   "metadata": {},
   "outputs": [
    {
     "name": "stdout",
     "output_type": "stream",
     "text": [
      "Defaulting to user installation because normal site-packages is not writeable\n",
      "Collecting pandas\n",
      "  Downloading pandas-1.5.3-cp38-cp38-manylinux_2_17_x86_64.manylinux2014_x86_64.whl (12.2 MB)\n",
      "\u001b[2K     \u001b[90m━━━━━━━━━━━━━━━━━━━━━━━━━━━━━━━━━━━━━━━\u001b[0m \u001b[32m12.2/12.2 MB\u001b[0m \u001b[31m848.3 kB/s\u001b[0m eta \u001b[36m0:00:00\u001b[0m00:01\u001b[0m00:01\u001b[0m\n",
      "\u001b[?25hRequirement already satisfied: python-dateutil>=2.8.1 in /home/wartortle/.local/lib/python3.8/site-packages (from pandas) (2.8.2)\n",
      "Requirement already satisfied: numpy>=1.20.3 in /home/wartortle/.local/lib/python3.8/site-packages (from pandas) (1.23.5)\n",
      "Collecting pytz>=2020.1\n",
      "  Downloading pytz-2022.7.1-py2.py3-none-any.whl (499 kB)\n",
      "\u001b[2K     \u001b[90m━━━━━━━━━━━━━━━━━━━━━━━━━━━━━━━━━━━━━━━\u001b[0m \u001b[32m499.4/499.4 kB\u001b[0m \u001b[31m3.9 MB/s\u001b[0m eta \u001b[36m0:00:00\u001b[0m00:01\u001b[0m00:01\u001b[0m\n",
      "\u001b[?25hRequirement already satisfied: six>=1.5 in /usr/lib/python3/dist-packages (from python-dateutil>=2.8.1->pandas) (1.14.0)\n",
      "Installing collected packages: pytz, pandas\n",
      "Successfully installed pandas-1.5.3 pytz-2022.7.1\n",
      "\n",
      "\u001b[1m[\u001b[0m\u001b[34;49mnotice\u001b[0m\u001b[1;39;49m]\u001b[0m\u001b[39;49m A new release of pip available: \u001b[0m\u001b[31;49m22.3.1\u001b[0m\u001b[39;49m -> \u001b[0m\u001b[32;49m23.0.1\u001b[0m\n",
      "\u001b[1m[\u001b[0m\u001b[34;49mnotice\u001b[0m\u001b[1;39;49m]\u001b[0m\u001b[39;49m To update, run: \u001b[0m\u001b[32;49mpython3 -m pip install --upgrade pip\u001b[0m\n"
     ]
    }
   ],
   "source": [
    "!pip install pandas"
   ]
  },
  {
   "cell_type": "code",
   "execution_count": 2,
   "id": "e10574bc-1a58-449c-9e4f-4ff53f53f1e8",
   "metadata": {
    "tags": []
   },
   "outputs": [
    {
     "name": "stderr",
     "output_type": "stream",
     "text": [
      "2023-02-18 20:16:33.484100: W tensorflow/compiler/xla/stream_executor/platform/default/dso_loader.cc:64] Could not load dynamic library 'libcudnn.so.8'; dlerror: libcudnn.so.8: cannot open shared object file: No such file or directory; LD_LIBRARY_PATH: /usr/local/cuda/lib64\n",
      "2023-02-18 20:16:33.484231: W tensorflow/core/common_runtime/gpu/gpu_device.cc:1934] Cannot dlopen some GPU libraries. Please make sure the missing libraries mentioned above are installed properly if you would like to use GPU. Follow the guide at https://www.tensorflow.org/install/gpu for how to download and setup the required libraries for your platform.\n",
      "Skipping registering GPU devices...\n"
     ]
    }
   ],
   "source": [
    "dataset, metadata = tfds.load('fashion_mnist', as_supervised=True, with_info=True)\n",
    "train_dataset, test_dataset = dataset['train'], dataset['test']"
   ]
  },
  {
   "cell_type": "code",
   "execution_count": 4,
   "id": "3f33a1db-5bd3-444e-a7f9-8a8419bb816a",
   "metadata": {},
   "outputs": [
    {
     "name": "stderr",
     "output_type": "stream",
     "text": [
      "2023-02-18 20:18:30.950887: W tensorflow/core/kernels/data/cache_dataset_ops.cc:856] The calling iterator did not fully read the dataset being cached. In order to avoid unexpected truncation of the dataset, the partially cached contents of the dataset  will be discarded. This can happen if you have an input pipeline similar to `dataset.cache().take(k).repeat()`. You should use `dataset.take(k).cache().repeat()` instead.\n"
     ]
    }
   ],
   "source": [
    "images = []\n",
    "classes = []\n",
    "for (img, cls) in train_dataset.take(10000):\n",
    "    images.append(img)\n",
    "    classes.append(cls)"
   ]
  },
  {
   "cell_type": "code",
   "execution_count": 9,
   "id": "f73e06d0-4e0a-4147-bb0b-9b7a6c2a932b",
   "metadata": {},
   "outputs": [],
   "source": [
    "images = tf.reshape(tf.stack(images), (10000, 28*28))"
   ]
  },
  {
   "cell_type": "code",
   "execution_count": 11,
   "id": "ae22d313-0209-4899-8aae-15c2cfb7827a",
   "metadata": {},
   "outputs": [
    {
     "data": {
      "text/plain": [
       "TensorShape([10000, 784])"
      ]
     },
     "execution_count": 11,
     "metadata": {},
     "output_type": "execute_result"
    }
   ],
   "source": [
    "images.shape"
   ]
  },
  {
   "cell_type": "code",
   "execution_count": 12,
   "id": "4e83f5ac-c1d6-4c78-86c9-b698f89dae33",
   "metadata": {},
   "outputs": [
    {
     "data": {
      "text/plain": [
       "TensorShape([10000])"
      ]
     },
     "execution_count": 12,
     "metadata": {},
     "output_type": "execute_result"
    }
   ],
   "source": [
    "classes = tf.stack(classes)\n",
    "classes.shape"
   ]
  },
  {
   "cell_type": "code",
   "execution_count": 17,
   "id": "b763d0e2-6493-42fb-a22e-ba7366c379ee",
   "metadata": {},
   "outputs": [],
   "source": [
    "images = images/255"
   ]
  },
  {
   "cell_type": "code",
   "execution_count": 21,
   "id": "661b09c5-df3f-4886-9676-914d2422de00",
   "metadata": {},
   "outputs": [
    {
     "data": {
      "text/plain": [
       "<matplotlib.image.AxesImage at 0x7f2eaba25910>"
      ]
     },
     "execution_count": 21,
     "metadata": {},
     "output_type": "execute_result"
    },
    {
     "data": {
      "image/png": "[encoded data removed]",
      "text/plain": [
       "<Figure size 432x288 with 1 Axes>"
      ]
     },
     "metadata": {
      "needs_background": "light"
     },
     "output_type": "display_data"
    }
   ],
   "source": [
    "import matplotlib.pyplot as plt\n",
    "\n",
    "plt.imshow(tf.reshape(images[0], (28, 28)))"
   ]
  },
  {
   "cell_type": "code",
   "execution_count": 22,
   "id": "df830a8d-74c8-4ff2-86e0-017e885425cf",
   "metadata": {},
   "outputs": [],
   "source": [
    "eigen_values, eigen_vectors = tf.linalg.eigh(tf.tensordot(tf.transpose(images), images, axes=1))"
   ]
  },
  {
   "cell_type": "code",
   "execution_count": 27,
   "id": "cd2d72d4-0f66-44e2-b92b-e7fb81fb02a3",
   "metadata": {},
   "outputs": [],
   "source": [
    "X_new = tf.tensordot(tf.transpose(eigen_vectors), tf.transpose(images), axes=1)\n",
    "\n",
    "X_pca = tf.transpose(X_new[:30, :])"
   ]
  },
  {
   "cell_type": "code",
   "execution_count": 29,
   "id": "15e53c46-86a7-4007-9dd3-8e066b802a17",
   "metadata": {},
   "outputs": [
    {
     "data": {
      "text/plain": [
       "TensorShape([10000, 30])"
      ]
     },
     "execution_count": 29,
     "metadata": {},
     "output_type": "execute_result"
    }
   ],
   "source": [
    "X_pca.shape"
   ]
  },
  {
   "cell_type": "code",
   "execution_count": 32,
   "id": "cc678843-2ad6-4cba-aaa8-9f6ce79857bd",
   "metadata": {},
   "outputs": [
    {
     "data": {
      "text/html": [
       "<div>\n",
       "<style scoped>\n",
       "    .dataframe tbody tr th:only-of-type {\n",
       "        vertical-align: middle;\n",
       "    }\n",
       "\n",
       "    .dataframe tbody tr th {\n",
       "        vertical-align: top;\n",
       "    }\n",
       "\n",
       "    .dataframe thead th {\n",
       "        text-align: right;\n",
       "    }\n",
       "</style>\n",
       "<table border=\"1\" class=\"dataframe\">\n",
       "  <thead>\n",
       "    <tr style=\"text-align: right;\">\n",
       "      <th></th>\n",
       "      <th>pca1</th>\n",
       "      <th>pca2</th>\n",
       "      <th>pca3</th>\n",
       "      <th>pca4</th>\n",
       "      <th>pca5</th>\n",
       "      <th>pca6</th>\n",
       "      <th>pca7</th>\n",
       "      <th>pca8</th>\n",
       "      <th>pca9</th>\n",
       "      <th>pca10</th>\n",
       "      <th>...</th>\n",
       "      <th>pca21</th>\n",
       "      <th>pca22</th>\n",
       "      <th>pca23</th>\n",
       "      <th>pca24</th>\n",
       "      <th>pca25</th>\n",
       "      <th>pca26</th>\n",
       "      <th>pca27</th>\n",
       "      <th>pca28</th>\n",
       "      <th>pca29</th>\n",
       "      <th>pca30</th>\n",
       "    </tr>\n",
       "  </thead>\n",
       "  <tbody>\n",
       "    <tr>\n",
       "      <th>0</th>\n",
       "      <td>-0.000303</td>\n",
       "      <td>-0.000002</td>\n",
       "      <td>0.000035</td>\n",
       "      <td>-0.000126</td>\n",
       "      <td>0.000407</td>\n",
       "      <td>0.000298</td>\n",
       "      <td>0.000281</td>\n",
       "      <td>0.000319</td>\n",
       "      <td>-0.000551</td>\n",
       "      <td>-0.000085</td>\n",
       "      <td>...</td>\n",
       "      <td>0.002135</td>\n",
       "      <td>-0.002224</td>\n",
       "      <td>-0.002536</td>\n",
       "      <td>-0.002565</td>\n",
       "      <td>-0.000647</td>\n",
       "      <td>-0.005527</td>\n",
       "      <td>-0.001981</td>\n",
       "      <td>-0.001300</td>\n",
       "      <td>-0.002051</td>\n",
       "      <td>0.001611</td>\n",
       "    </tr>\n",
       "    <tr>\n",
       "      <th>1</th>\n",
       "      <td>-0.000068</td>\n",
       "      <td>0.000021</td>\n",
       "      <td>0.000069</td>\n",
       "      <td>-0.000291</td>\n",
       "      <td>0.000239</td>\n",
       "      <td>0.000160</td>\n",
       "      <td>0.000109</td>\n",
       "      <td>0.000236</td>\n",
       "      <td>-0.000677</td>\n",
       "      <td>-0.000303</td>\n",
       "      <td>...</td>\n",
       "      <td>-0.000175</td>\n",
       "      <td>0.002438</td>\n",
       "      <td>-0.000011</td>\n",
       "      <td>-0.000506</td>\n",
       "      <td>-0.000604</td>\n",
       "      <td>0.000152</td>\n",
       "      <td>-0.001833</td>\n",
       "      <td>-0.002506</td>\n",
       "      <td>0.000073</td>\n",
       "      <td>0.002282</td>\n",
       "    </tr>\n",
       "    <tr>\n",
       "      <th>2</th>\n",
       "      <td>-0.000335</td>\n",
       "      <td>-0.000199</td>\n",
       "      <td>-0.000360</td>\n",
       "      <td>0.000192</td>\n",
       "      <td>0.000580</td>\n",
       "      <td>0.004561</td>\n",
       "      <td>0.002532</td>\n",
       "      <td>-0.000798</td>\n",
       "      <td>0.001306</td>\n",
       "      <td>0.000153</td>\n",
       "      <td>...</td>\n",
       "      <td>0.001952</td>\n",
       "      <td>-0.018193</td>\n",
       "      <td>0.019071</td>\n",
       "      <td>0.041150</td>\n",
       "      <td>0.002303</td>\n",
       "      <td>-0.009250</td>\n",
       "      <td>0.015746</td>\n",
       "      <td>-0.007606</td>\n",
       "      <td>0.012387</td>\n",
       "      <td>-0.026202</td>\n",
       "    </tr>\n",
       "    <tr>\n",
       "      <th>3</th>\n",
       "      <td>-0.000096</td>\n",
       "      <td>-0.000043</td>\n",
       "      <td>-0.000046</td>\n",
       "      <td>-0.000182</td>\n",
       "      <td>0.000505</td>\n",
       "      <td>0.000484</td>\n",
       "      <td>-0.000558</td>\n",
       "      <td>0.000035</td>\n",
       "      <td>-0.000163</td>\n",
       "      <td>0.001567</td>\n",
       "      <td>...</td>\n",
       "      <td>-0.001015</td>\n",
       "      <td>0.002394</td>\n",
       "      <td>0.000488</td>\n",
       "      <td>-0.003182</td>\n",
       "      <td>0.002165</td>\n",
       "      <td>-0.000735</td>\n",
       "      <td>0.003141</td>\n",
       "      <td>-0.003657</td>\n",
       "      <td>0.001303</td>\n",
       "      <td>0.003062</td>\n",
       "    </tr>\n",
       "    <tr>\n",
       "      <th>4</th>\n",
       "      <td>0.000257</td>\n",
       "      <td>0.000008</td>\n",
       "      <td>-0.000023</td>\n",
       "      <td>0.000062</td>\n",
       "      <td>-0.000180</td>\n",
       "      <td>-0.000065</td>\n",
       "      <td>-0.000697</td>\n",
       "      <td>0.000616</td>\n",
       "      <td>0.000523</td>\n",
       "      <td>0.000308</td>\n",
       "      <td>...</td>\n",
       "      <td>0.000954</td>\n",
       "      <td>-0.002263</td>\n",
       "      <td>0.000717</td>\n",
       "      <td>-0.001389</td>\n",
       "      <td>0.001549</td>\n",
       "      <td>-0.002381</td>\n",
       "      <td>0.001570</td>\n",
       "      <td>0.001293</td>\n",
       "      <td>0.000348</td>\n",
       "      <td>0.000119</td>\n",
       "    </tr>\n",
       "  </tbody>\n",
       "</table>\n",
       "<p>5 rows × 30 columns</p>\n",
       "</div>"
      ],
      "text/plain": [
       "       pca1      pca2      pca3      pca4      pca5      pca6      pca7  \\\n",
       "0 -0.000303 -0.000002  0.000035 -0.000126  0.000407  0.000298  0.000281   \n",
       "1 -0.000068  0.000021  0.000069 -0.000291  0.000239  0.000160  0.000109   \n",
       "2 -0.000335 -0.000199 -0.000360  0.000192  0.000580  0.004561  0.002532   \n",
       "3 -0.000096 -0.000043 -0.000046 -0.000182  0.000505  0.000484 -0.000558   \n",
       "4  0.000257  0.000008 -0.000023  0.000062 -0.000180 -0.000065 -0.000697   \n",
       "\n",
       "       pca8      pca9     pca10  ...     pca21     pca22     pca23     pca24  \\\n",
       "0  0.000319 -0.000551 -0.000085  ...  0.002135 -0.002224 -0.002536 -0.002565   \n",
       "1  0.000236 -0.000677 -0.000303  ... -0.000175  0.002438 -0.000011 -0.000506   \n",
       "2 -0.000798  0.001306  0.000153  ...  0.001952 -0.018193  0.019071  0.041150   \n",
       "3  0.000035 -0.000163  0.001567  ... -0.001015  0.002394  0.000488 -0.003182   \n",
       "4  0.000616  0.000523  0.000308  ...  0.000954 -0.002263  0.000717 -0.001389   \n",
       "\n",
       "      pca25     pca26     pca27     pca28     pca29     pca30  \n",
       "0 -0.000647 -0.005527 -0.001981 -0.001300 -0.002051  0.001611  \n",
       "1 -0.000604  0.000152 -0.001833 -0.002506  0.000073  0.002282  \n",
       "2  0.002303 -0.009250  0.015746 -0.007606  0.012387 -0.026202  \n",
       "3  0.002165 -0.000735  0.003141 -0.003657  0.001303  0.003062  \n",
       "4  0.001549 -0.002381  0.001570  0.001293  0.000348  0.000119  \n",
       "\n",
       "[5 rows x 30 columns]"
      ]
     },
     "execution_count": 32,
     "metadata": {},
     "output_type": "execute_result"
    }
   ],
   "source": [
    "import pandas\n",
    "\n",
    "df = pandas.DataFrame(X_pca, columns = ['pca' + str(i) for i in range(1, 31)])\n",
    "\n",
    "df.head()"
   ]
  },
  {
   "cell_type": "code",
   "execution_count": 33,
   "id": "d95f4d8f-e13b-42c3-a86d-58be1a86d9ca",
   "metadata": {},
   "outputs": [],
   "source": [
    "df['class'] = classes"
   ]
  },
  {
   "cell_type": "code",
   "execution_count": 34,
   "id": "c48b018e-5606-4760-9cd9-f03d1669e42b",
   "metadata": {},
   "outputs": [
    {
     "data": {
      "text/html": [
       "<div>\n",
       "<style scoped>\n",
       "    .dataframe tbody tr th:only-of-type {\n",
       "        vertical-align: middle;\n",
       "    }\n",
       "\n",
       "    .dataframe tbody tr th {\n",
       "        vertical-align: top;\n",
       "    }\n",
       "\n",
       "    .dataframe thead th {\n",
       "        text-align: right;\n",
       "    }\n",
       "</style>\n",
       "<table border=\"1\" class=\"dataframe\">\n",
       "  <thead>\n",
       "    <tr style=\"text-align: right;\">\n",
       "      <th></th>\n",
       "      <th>pca1</th>\n",
       "      <th>pca2</th>\n",
       "      <th>pca3</th>\n",
       "      <th>pca4</th>\n",
       "      <th>pca5</th>\n",
       "      <th>pca6</th>\n",
       "      <th>pca7</th>\n",
       "      <th>pca8</th>\n",
       "      <th>pca9</th>\n",
       "      <th>pca10</th>\n",
       "      <th>...</th>\n",
       "      <th>pca22</th>\n",
       "      <th>pca23</th>\n",
       "      <th>pca24</th>\n",
       "      <th>pca25</th>\n",
       "      <th>pca26</th>\n",
       "      <th>pca27</th>\n",
       "      <th>pca28</th>\n",
       "      <th>pca29</th>\n",
       "      <th>pca30</th>\n",
       "      <th>class</th>\n",
       "    </tr>\n",
       "  </thead>\n",
       "  <tbody>\n",
       "    <tr>\n",
       "      <th>0</th>\n",
       "      <td>-0.000303</td>\n",
       "      <td>-0.000002</td>\n",
       "      <td>0.000035</td>\n",
       "      <td>-0.000126</td>\n",
       "      <td>0.000407</td>\n",
       "      <td>0.000298</td>\n",
       "      <td>0.000281</td>\n",
       "      <td>0.000319</td>\n",
       "      <td>-0.000551</td>\n",
       "      <td>-0.000085</td>\n",
       "      <td>...</td>\n",
       "      <td>-0.002224</td>\n",
       "      <td>-0.002536</td>\n",
       "      <td>-0.002565</td>\n",
       "      <td>-0.000647</td>\n",
       "      <td>-0.005527</td>\n",
       "      <td>-0.001981</td>\n",
       "      <td>-0.001300</td>\n",
       "      <td>-0.002051</td>\n",
       "      <td>0.001611</td>\n",
       "      <td>2</td>\n",
       "    </tr>\n",
       "    <tr>\n",
       "      <th>1</th>\n",
       "      <td>-0.000068</td>\n",
       "      <td>0.000021</td>\n",
       "      <td>0.000069</td>\n",
       "      <td>-0.000291</td>\n",
       "      <td>0.000239</td>\n",
       "      <td>0.000160</td>\n",
       "      <td>0.000109</td>\n",
       "      <td>0.000236</td>\n",
       "      <td>-0.000677</td>\n",
       "      <td>-0.000303</td>\n",
       "      <td>...</td>\n",
       "      <td>0.002438</td>\n",
       "      <td>-0.000011</td>\n",
       "      <td>-0.000506</td>\n",
       "      <td>-0.000604</td>\n",
       "      <td>0.000152</td>\n",
       "      <td>-0.001833</td>\n",
       "      <td>-0.002506</td>\n",
       "      <td>0.000073</td>\n",
       "      <td>0.002282</td>\n",
       "      <td>1</td>\n",
       "    </tr>\n",
       "    <tr>\n",
       "      <th>2</th>\n",
       "      <td>-0.000335</td>\n",
       "      <td>-0.000199</td>\n",
       "      <td>-0.000360</td>\n",
       "      <td>0.000192</td>\n",
       "      <td>0.000580</td>\n",
       "      <td>0.004561</td>\n",
       "      <td>0.002532</td>\n",
       "      <td>-0.000798</td>\n",
       "      <td>0.001306</td>\n",
       "      <td>0.000153</td>\n",
       "      <td>...</td>\n",
       "      <td>-0.018193</td>\n",
       "      <td>0.019071</td>\n",
       "      <td>0.041150</td>\n",
       "      <td>0.002303</td>\n",
       "      <td>-0.009250</td>\n",
       "      <td>0.015746</td>\n",
       "      <td>-0.007606</td>\n",
       "      <td>0.012387</td>\n",
       "      <td>-0.026202</td>\n",
       "      <td>8</td>\n",
       "    </tr>\n",
       "    <tr>\n",
       "      <th>3</th>\n",
       "      <td>-0.000096</td>\n",
       "      <td>-0.000043</td>\n",
       "      <td>-0.000046</td>\n",
       "      <td>-0.000182</td>\n",
       "      <td>0.000505</td>\n",
       "      <td>0.000484</td>\n",
       "      <td>-0.000558</td>\n",
       "      <td>0.000035</td>\n",
       "      <td>-0.000163</td>\n",
       "      <td>0.001567</td>\n",
       "      <td>...</td>\n",
       "      <td>0.002394</td>\n",
       "      <td>0.000488</td>\n",
       "      <td>-0.003182</td>\n",
       "      <td>0.002165</td>\n",
       "      <td>-0.000735</td>\n",
       "      <td>0.003141</td>\n",
       "      <td>-0.003657</td>\n",
       "      <td>0.001303</td>\n",
       "      <td>0.003062</td>\n",
       "      <td>4</td>\n",
       "    </tr>\n",
       "    <tr>\n",
       "      <th>4</th>\n",
       "      <td>0.000257</td>\n",
       "      <td>0.000008</td>\n",
       "      <td>-0.000023</td>\n",
       "      <td>0.000062</td>\n",
       "      <td>-0.000180</td>\n",
       "      <td>-0.000065</td>\n",
       "      <td>-0.000697</td>\n",
       "      <td>0.000616</td>\n",
       "      <td>0.000523</td>\n",
       "      <td>0.000308</td>\n",
       "      <td>...</td>\n",
       "      <td>-0.002263</td>\n",
       "      <td>0.000717</td>\n",
       "      <td>-0.001389</td>\n",
       "      <td>0.001549</td>\n",
       "      <td>-0.002381</td>\n",
       "      <td>0.001570</td>\n",
       "      <td>0.001293</td>\n",
       "      <td>0.000348</td>\n",
       "      <td>0.000119</td>\n",
       "      <td>1</td>\n",
       "    </tr>\n",
       "  </tbody>\n",
       "</table>\n",
       "<p>5 rows × 31 columns</p>\n",
       "</div>"
      ],
      "text/plain": [
       "       pca1      pca2      pca3      pca4      pca5      pca6      pca7  \\\n",
       "0 -0.000303 -0.000002  0.000035 -0.000126  0.000407  0.000298  0.000281   \n",
       "1 -0.000068  0.000021  0.000069 -0.000291  0.000239  0.000160  0.000109   \n",
       "2 -0.000335 -0.000199 -0.000360  0.000192  0.000580  0.004561  0.002532   \n",
       "3 -0.000096 -0.000043 -0.000046 -0.000182  0.000505  0.000484 -0.000558   \n",
       "4  0.000257  0.000008 -0.000023  0.000062 -0.000180 -0.000065 -0.000697   \n",
       "\n",
       "       pca8      pca9     pca10  ...     pca22     pca23     pca24     pca25  \\\n",
       "0  0.000319 -0.000551 -0.000085  ... -0.002224 -0.002536 -0.002565 -0.000647   \n",
       "1  0.000236 -0.000677 -0.000303  ...  0.002438 -0.000011 -0.000506 -0.000604   \n",
       "2 -0.000798  0.001306  0.000153  ... -0.018193  0.019071  0.041150  0.002303   \n",
       "3  0.000035 -0.000163  0.001567  ...  0.002394  0.000488 -0.003182  0.002165   \n",
       "4  0.000616  0.000523  0.000308  ... -0.002263  0.000717 -0.001389  0.001549   \n",
       "\n",
       "      pca26     pca27     pca28     pca29     pca30  class  \n",
       "0 -0.005527 -0.001981 -0.001300 -0.002051  0.001611      2  \n",
       "1  0.000152 -0.001833 -0.002506  0.000073  0.002282      1  \n",
       "2 -0.009250  0.015746 -0.007606  0.012387 -0.026202      8  \n",
       "3 -0.000735  0.003141 -0.003657  0.001303  0.003062      4  \n",
       "4 -0.002381  0.001570  0.001293  0.000348  0.000119      1  \n",
       "\n",
       "[5 rows x 31 columns]"
      ]
     },
     "execution_count": 34,
     "metadata": {},
     "output_type": "execute_result"
    }
   ],
   "source": [
    "df.head()"
   ]
  },
  {
   "cell_type": "code",
   "execution_count": 35,
   "id": "c1933da6-b4d0-4ec7-aa7a-f53a36294a57",
   "metadata": {},
   "outputs": [],
   "source": [
    "df.to_csv(\"data.csv\")"
   ]
  },
  {
   "cell_type": "code",
   "execution_count": null,
   "id": "ffdfd68a-84bd-4208-a0ca-59c047ce6348",
   "metadata": {},
   "outputs": [],
   "source": []
  }
 ],
 "metadata": {
  "kernelspec": {
   "display_name": "Python 3 (ipykernel)",
   "language": "python",
   "name": "python3"
  },
  "language_info": {
   "codemirror_mode": {
    "name": "ipython",
    "version": 3
   },
   "file_extension": ".py",
   "mimetype": "text/x-python",
   "name": "python",
   "nbconvert_exporter": "python",
   "pygments_lexer": "ipython3",
   "version": "3.8.10"
  }
 },
 "nbformat": 4,
 "nbformat_minor": 5
}
